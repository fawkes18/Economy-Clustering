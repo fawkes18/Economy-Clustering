{
 "cells": [
  {
   "cell_type": "code",
   "execution_count": 1,
   "metadata": {},
   "outputs": [],
   "source": [
    "import pandas as pd\n",
    "from pandas.io.html import read_html\n",
    "from bs4 import BeautifulSoup"
   ]
  },
  {
   "cell_type": "markdown",
   "metadata": {},
   "source": [
    "##### gdp_per_capita"
   ]
  },
  {
   "cell_type": "code",
   "execution_count": 2,
   "metadata": {},
   "outputs": [],
   "source": [
    "url1 = 'https://en.wikipedia.org/wiki/List_of_countries_by_GDP_(PPP)_per_capita'\n",
    "\n",
    "table1 = read_html(url1, index_col = 0, attrs={'class': 'wikitable sortable'})"
   ]
  },
  {
   "cell_type": "code",
   "execution_count": 3,
   "metadata": {},
   "outputs": [],
   "source": [
    "df1 = table1[0]\n",
    "df1.set_index('Country/Territory', inplace = True)\n",
    "df1.rename(columns={'Int$': 'gdp_capita'}, inplace = True)"
   ]
  },
  {
   "cell_type": "markdown",
   "metadata": {},
   "source": [
    "##### interest_rate"
   ]
  },
  {
   "cell_type": "code",
   "execution_count": 4,
   "metadata": {},
   "outputs": [],
   "source": [
    "url2 = 'https://tradingeconomics.com/country-list/interest-rate'\n",
    "\n",
    "table2 = read_html(url2, attrs={'class': 'table table-hover'})"
   ]
  },
  {
   "cell_type": "code",
   "execution_count": 5,
   "metadata": {},
   "outputs": [],
   "source": [
    "df2 = table2[0]\n",
    "df2.set_index('Country', inplace = True)\n",
    "df2.rename(columns = {'Last': 'interest_rate'}, inplace = True)\n",
    "df2.drop(columns = ['Previous', 'Reference', 'Unit'], inplace = True)"
   ]
  },
  {
   "cell_type": "markdown",
   "metadata": {},
   "source": [
    "##### unemployment_rate"
   ]
  },
  {
   "cell_type": "code",
   "execution_count": 6,
   "metadata": {},
   "outputs": [],
   "source": [
    "url3 = 'https://en.wikipedia.org/wiki/List_of_countries_by_unemployment_rate'\n",
    "\n",
    "table3 = read_html(url3, attrs={'class': 'wikitable sortable'}) "
   ]
  },
  {
   "cell_type": "code",
   "execution_count": 7,
   "metadata": {},
   "outputs": [],
   "source": [
    "df3 = table3[0]\n",
    "df3.set_index('Name of Countries', inplace = True)\n",
    "df3.rename(columns={'Unemployment rate (%)': 'unemp'}, inplace = True)\n",
    "df3.drop(columns = ['Source / date of information'], inplace = True)"
   ]
  },
  {
   "cell_type": "markdown",
   "metadata": {},
   "source": [
    "##### inflation_rate"
   ]
  },
  {
   "cell_type": "code",
   "execution_count": 8,
   "metadata": {},
   "outputs": [],
   "source": [
    "url4 = 'https://tradingeconomics.com/country-list/inflation-rate'\n",
    "\n",
    "table4 = read_html(url4, attrs={'class': 'table table-hover'})"
   ]
  },
  {
   "cell_type": "code",
   "execution_count": 9,
   "metadata": {},
   "outputs": [],
   "source": [
    "df4 = table4[0]\n",
    "df4.set_index('Country', inplace = True)\n",
    "df4.rename(columns = {'Last': 'inflation'}, inplace = True)\n",
    "df4.drop(columns = ['Previous', 'Reference', 'Unit'], inplace = True)"
   ]
  },
  {
   "cell_type": "markdown",
   "metadata": {},
   "source": [
    "##### foreign_trade"
   ]
  },
  {
   "cell_type": "code",
   "execution_count": 10,
   "metadata": {},
   "outputs": [],
   "source": [
    "url5 = 'https://en.wikipedia.org/wiki/List_of_countries_by_trade-to-GDP_ratio'\n",
    "\n",
    "table5 = read_html(url5, attrs={'class': 'wikitable sortable'})"
   ]
  },
  {
   "cell_type": "code",
   "execution_count": 11,
   "metadata": {},
   "outputs": [],
   "source": [
    "df5 = table5[0]\n",
    "df5.set_index('Country', inplace = True)\n",
    "df5.rename(columns = {'Exports of goods and services (% of GDP)(export ratio)[2]': 'export_ratio',\n",
    "                     'Imports of goods and services (% of GDP)(import ratio)[3]': 'import_ratio',\n",
    "                     'Imports and Exports (% of GDP)(trade-to-GDP ratio)': 'foreign_trade_ratio'}, inplace = True)\n",
    "\n",
    "df5.drop(columns = ['Year'], inplace = True)"
   ]
  },
  {
   "cell_type": "markdown",
   "metadata": {},
   "source": [
    "##### public_debt"
   ]
  },
  {
   "cell_type": "code",
   "execution_count": 12,
   "metadata": {},
   "outputs": [],
   "source": [
    "url6 = 'https://en.wikipedia.org/wiki/List_of_countries_by_public_debt'\n",
    "\n",
    "table6 = read_html(url6, attrs={'class': 'wikitable sortable nowrap mw-datatable'})"
   ]
  },
  {
   "cell_type": "code",
   "execution_count": 13,
   "metadata": {},
   "outputs": [],
   "source": [
    "df6 = table6[0]\n",
    "df6.set_index('Country', inplace = True)\n",
    "df6.rename(columns = {'Total (gross)governmentdebt as% of GDP(IMF)': 'debt_ratio'}, inplace = True)\n",
    "df6.drop(columns = ['Gross publicdebt as% of GDP(CIA)[1]', 'Date', 'Netgovernmentdebt as% of GDP(IMF)[2]',\n",
    "                   'Date.1', 'Region'], inplace = True)"
   ]
  },
  {
   "cell_type": "markdown",
   "metadata": {},
   "source": [
    "##### government budget"
   ]
  },
  {
   "cell_type": "code",
   "execution_count": 14,
   "metadata": {},
   "outputs": [],
   "source": [
    "url7 = 'https://en.wikipedia.org/wiki/List_of_countries_by_government_budget'\n",
    "\n",
    "table7 = read_html(url7, attrs={'class': 'wikitable sortable'})"
   ]
  },
  {
   "cell_type": "code",
   "execution_count": 15,
   "metadata": {},
   "outputs": [],
   "source": [
    "df7 = table7[0]\n",
    "df7.set_index('Country', inplace = True)\n",
    "df7.rename(columns = {'Surplus percentage of GDP': 'surplus_to_gdp'}, inplace = True)\n",
    "df7.drop(columns = ['Rank', 'Revenues', 'Expenditures', 'Surplus (or deficit)', 'Year'], inplace = True)\n"
   ]
  },
  {
   "cell_type": "markdown",
   "metadata": {},
   "source": [
    "##### gini_index"
   ]
  },
  {
   "cell_type": "code",
   "execution_count": 16,
   "metadata": {},
   "outputs": [],
   "source": [
    "url8 = 'https://en.wikipedia.org/wiki/List_of_countries_by_income_equality'\n",
    "\n",
    "table8 = read_html(url8, attrs = {'class': 'wikitable nowrap mw-datatable sortable'})"
   ]
  },
  {
   "cell_type": "code",
   "execution_count": 17,
   "metadata": {},
   "outputs": [],
   "source": [
    "df8 = table8[0]\n",
    "df8.columns= df8.columns.droplevel()\n",
    "df8.columns= df8.columns.droplevel()"
   ]
  },
  {
   "cell_type": "code",
   "execution_count": 18,
   "metadata": {},
   "outputs": [
    {
     "name": "stderr",
     "output_type": "stream",
     "text": [
      "C:\\Users\\Marco\\anaconda3\\lib\\site-packages\\pandas\\core\\frame.py:4133: SettingWithCopyWarning: \n",
      "A value is trying to be set on a copy of a slice from a DataFrame\n",
      "\n",
      "See the caveats in the documentation: https://pandas.pydata.org/pandas-docs/stable/user_guide/indexing.html#returning-a-view-versus-a-copy\n",
      "  errors=errors,\n"
     ]
    }
   ],
   "source": [
    "df8 = df8[['Country', 'Unnamed: 3_level_2']]\n",
    "df8.set_index('Country', inplace = True)\n",
    "df8.rename(columns = {'Unnamed: 3_level_2': 'gini'}, inplace = True)"
   ]
  },
  {
   "cell_type": "markdown",
   "metadata": {},
   "source": [
    "##### corporate_tax"
   ]
  },
  {
   "cell_type": "code",
   "execution_count": 19,
   "metadata": {},
   "outputs": [],
   "source": [
    "url9 = 'https://tradingeconomics.com/country-list/corporate-tax-rate'\n",
    "\n",
    "table9 = read_html(url9, attrs = {'class': 'table table-hover'})"
   ]
  },
  {
   "cell_type": "code",
   "execution_count": 20,
   "metadata": {},
   "outputs": [],
   "source": [
    "df9 = table9[0]\n",
    "df9 = df9[['Country', 'Last']]\n",
    "df9.set_index('Country', inplace = True)\n",
    "df9.rename(columns = {'Last': 'corp_tax'}, inplace = True)"
   ]
  },
  {
   "cell_type": "markdown",
   "metadata": {},
   "source": [
    "##### economic_freedom"
   ]
  },
  {
   "cell_type": "code",
   "execution_count": 21,
   "metadata": {},
   "outputs": [],
   "source": [
    "url10 = 'https://en.wikipedia.org/wiki/List_of_countries_by_economic_freedom'\n",
    "\n",
    "table10 = read_html(url10, attrs = {'class': 'wikitable sortable'})"
   ]
  },
  {
   "cell_type": "code",
   "execution_count": 22,
   "metadata": {},
   "outputs": [],
   "source": [
    "df10 = table10[0]\n",
    "df10.set_index('Country[6]', inplace = True)\n",
    "df10.rename(columns = {'Score': 'economic_freedom'}, inplace = True)\n",
    "df10.drop('Change', axis = 1, inplace = True)"
   ]
  },
  {
   "cell_type": "code",
   "execution_count": 23,
   "metadata": {},
   "outputs": [],
   "source": [
    "all_df = [df2, df3, df4, df5, df6, df7, df8, df9, df10]\n",
    "\n",
    "df = df1.join(all_df, how = 'outer')"
   ]
  },
  {
   "cell_type": "code",
   "execution_count": 26,
   "metadata": {},
   "outputs": [],
   "source": [
    "df.to_excel('economy.xlsx')"
   ]
  },
  {
   "cell_type": "markdown",
   "metadata": {},
   "source": [
    "##### final_dataframe"
   ]
  },
  {
   "cell_type": "code",
   "execution_count": 27,
   "metadata": {},
   "outputs": [],
   "source": [
    "df_new = pd.read_excel(r'C:\\Users\\Marco\\Documents\\jupyter_notebook\\economy.xlsx')"
   ]
  },
  {
   "cell_type": "code",
   "execution_count": 29,
   "metadata": {},
   "outputs": [],
   "source": [
    "df_new.rename(columns = {'Unnamed: 0': 'country'}, inplace = True)\n",
    "df_new.set_index('country', inplace = True)"
   ]
  },
  {
   "cell_type": "code",
   "execution_count": 36,
   "metadata": {},
   "outputs": [],
   "source": [
    "df_new.dropna(thresh = 8, inplace = True)"
   ]
  },
  {
   "cell_type": "code",
   "execution_count": 38,
   "metadata": {},
   "outputs": [],
   "source": [
    "df_new.rename(columns = {'unemp': 'unemployment'}, inplace = True)"
   ]
  },
  {
   "cell_type": "code",
   "execution_count": 40,
   "metadata": {},
   "outputs": [],
   "source": [
    "df_new.to_excel('economy_final.xlsx')"
   ]
  },
  {
   "cell_type": "code",
   "execution_count": null,
   "metadata": {},
   "outputs": [],
   "source": []
  }
 ],
 "metadata": {
  "kernelspec": {
   "display_name": "Python 3",
   "language": "python",
   "name": "python3"
  },
  "language_info": {
   "codemirror_mode": {
    "name": "ipython",
    "version": 3
   },
   "file_extension": ".py",
   "mimetype": "text/x-python",
   "name": "python",
   "nbconvert_exporter": "python",
   "pygments_lexer": "ipython3",
   "version": "3.7.6"
  }
 },
 "nbformat": 4,
 "nbformat_minor": 4
}
